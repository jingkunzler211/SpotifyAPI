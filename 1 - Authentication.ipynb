{
 "cells": [
  {
   "cell_type": "code",
   "execution_count": 1,
   "metadata": {},
   "outputs": [],
   "source": [
    "import requests"
   ]
  },
  {
   "cell_type": "code",
   "execution_count": 2,
   "metadata": {},
   "outputs": [],
   "source": [
    "import base64"
   ]
  },
  {
   "cell_type": "code",
   "execution_count": 3,
   "metadata": {},
   "outputs": [],
   "source": [
    "import datetime"
   ]
  },
  {
   "cell_type": "code",
   "execution_count": 4,
   "metadata": {},
   "outputs": [],
   "source": [
    "client_id = '880e1efab91840d1839bc9e887302e4c'\n",
    "client_secret = 'f0ea5f81740b48e288d8e9ea15489d63'"
   ]
  },
  {
   "cell_type": "code",
   "execution_count": 5,
   "metadata": {},
   "outputs": [],
   "source": [
    "client_creds = f\"{client_id}:{client_secret}\""
   ]
  },
  {
   "cell_type": "code",
   "execution_count": 6,
   "metadata": {},
   "outputs": [],
   "source": [
    "client_creds64 = base64.b64encode(client_creds.encode())"
   ]
  },
  {
   "cell_type": "code",
   "execution_count": 7,
   "metadata": {},
   "outputs": [
    {
     "name": "stdout",
     "output_type": "stream",
     "text": [
      "b'ODgwZTFlZmFiOTE4NDBkMTgzOWJjOWU4ODczMDJlNGM6ZjBlYTVmODE3NDBiNDhlMjg4ZDhlOWVhMTU0ODlkNjM='\n"
     ]
    }
   ],
   "source": [
    "print(client_creds64)"
   ]
  },
  {
   "cell_type": "code",
   "execution_count": 8,
   "metadata": {},
   "outputs": [],
   "source": [
    "#do a look up for a token\n",
    "#this token is for future requests\n",
    "token_url = 'https://accounts.spotify.com/api/token'\n",
    "method = 'POST'\n",
    "\n",
    "token_data = {\n",
    "    \"grant_type\": \"client_credentials\"\n",
    "}\n",
    "\n",
    "token_headers = {\n",
    "    \"Authorization\": f\"Basic {client_creds64.decode()}\" # Basic <base64 encoded client_id:client_secret>\n",
    "} \n"
   ]
  },
  {
   "cell_type": "code",
   "execution_count": 10,
   "metadata": {},
   "outputs": [
    {
     "name": "stdout",
     "output_type": "stream",
     "text": [
      "{'access_token': 'BQDLhV7x6t_o6pgczXEeBpA02MYM5aLRrL67oO1dpgNXUUVr4Zrgl8ZVCFgb-OLOCkiZCBjjVAUEnI5n9uc', 'token_type': 'Bearer', 'expires_in': 3600, 'scope': ''}\n"
     ]
    }
   ],
   "source": [
    "r = requests.post(token_url, data = token_data, headers = token_headers)\n",
    "print(r.json())\n",
    "valid_requests = r.status_code in range(200, 299)"
   ]
  },
  {
   "cell_type": "code",
   "execution_count": 11,
   "metadata": {},
   "outputs": [],
   "source": [
    "if valid_requests:\n",
    "\n",
    "    now = datetime.datetime.now()\n",
    "\n",
    "    token_response_data = r.json()\n",
    "    access_token = token_response_data[\"access_token\"]\n",
    "    expires_in = token_response_data[\"expires_in\"] #seconds\n",
    "\n",
    "    expires = now + datetime.timedelta(seconds = expires_in)\n",
    "\n",
    "    did_expire = expires < now"
   ]
  },
  {
   "cell_type": "code",
   "execution_count": null,
   "metadata": {},
   "outputs": [],
   "source": []
  }
 ],
 "metadata": {
  "kernelspec": {
   "display_name": "Python 3",
   "language": "python",
   "name": "python3"
  },
  "language_info": {
   "codemirror_mode": {
    "name": "ipython",
    "version": 3
   },
   "file_extension": ".py",
   "mimetype": "text/x-python",
   "name": "python",
   "nbconvert_exporter": "python",
   "pygments_lexer": "ipython3",
   "version": "3.6.5"
  }
 },
 "nbformat": 4,
 "nbformat_minor": 2
}
